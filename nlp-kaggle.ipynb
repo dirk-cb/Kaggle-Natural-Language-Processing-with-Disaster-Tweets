{
 "cells": [
  {
   "cell_type": "markdown",
   "metadata": {},
   "source": [
    "## Kaggle - Natural Language Processing with Disaster Tweets\n",
    "Solution by Chris & Naru \n",
    "\n",
    "https://www.kaggle.com/learn/natural-language-processing"
   ]
  },
  {
   "cell_type": "markdown",
   "metadata": {},
   "source": [
    "### Useful Resources\n",
    "https://pandas.pydata.org/docs/\n",
    "\n",
    "https://towardsdatascience.com/how-to-combine-textual-and-numerical-features-for-machine-learning-in-python-dc1526ca94d9"
   ]
  },
  {
   "cell_type": "code",
   "execution_count": 1,
   "metadata": {},
   "outputs": [],
   "source": [
    "import pandas as pd\n",
    "file_loc = \"data\\\\\"\n",
    "\n",
    "df = pd.read_csv(file_loc + \"train.csv\")\n",
    "df_test = pd.read_csv(file_loc + \"test.csv\", index_col=False)"
   ]
  },
  {
   "cell_type": "code",
   "execution_count": 2,
   "metadata": {},
   "outputs": [
    {
     "name": "stdout",
     "output_type": "stream",
     "text": [
      "Index(['id', 'keyword', 'location', 'text', 'target'], dtype='object')\n",
      "\n",
      "\n",
      "(7613, 5)\n"
     ]
    }
   ],
   "source": [
    "print(df.columns)\n",
    "print(\"\\n\")\n",
    "print(df.shape)"
   ]
  },
  {
   "cell_type": "code",
   "execution_count": 3,
   "metadata": {},
   "outputs": [],
   "source": [
    "def output_matrix(pred, actual):  \n",
    "    \"\"\"output_matrix computes accuracy information,\n",
    "    and a confusion matrix\"\"\"\n",
    "    \n",
    "    df = pd.DataFrame({\"pred\":pred, \"actual\":actual, \"count\":0})\n",
    "    # Rounds each predicted number to either 0 or 1.\n",
    "    df.pred = df.pred.apply((lambda x : 0 if 0 >= round(x) else 1))\n",
    "    \n",
    "    correct = len(df[df.pred == df.actual])\n",
    "    incorrect = len(df[df.pred != df.actual])\n",
    "    accuracy = correct / (correct + incorrect)\n",
    "    \n",
    "    print(f\"Correct: {correct}\\nIncorrect: {incorrect}\\nAccuracy: {accuracy}\")\n",
    "\n",
    "    print(df.groupby([\"actual\",\"pred\"]).count())"
   ]
  },
  {
   "cell_type": "code",
   "execution_count": 4,
   "metadata": {},
   "outputs": [
    {
     "data": {
      "text/html": [
       "<div>\n",
       "<style scoped>\n",
       "    .dataframe tbody tr th:only-of-type {\n",
       "        vertical-align: middle;\n",
       "    }\n",
       "\n",
       "    .dataframe tbody tr th {\n",
       "        vertical-align: top;\n",
       "    }\n",
       "\n",
       "    .dataframe thead th {\n",
       "        text-align: right;\n",
       "    }\n",
       "</style>\n",
       "<table border=\"1\" class=\"dataframe\">\n",
       "  <thead>\n",
       "    <tr style=\"text-align: right;\">\n",
       "      <th></th>\n",
       "      <th>id</th>\n",
       "      <th>keyword</th>\n",
       "      <th>location</th>\n",
       "      <th>text</th>\n",
       "      <th>target</th>\n",
       "    </tr>\n",
       "  </thead>\n",
       "  <tbody>\n",
       "    <tr>\n",
       "      <th>0</th>\n",
       "      <td>23</td>\n",
       "      <td>NaN</td>\n",
       "      <td>NaN</td>\n",
       "      <td>What's up man?</td>\n",
       "      <td>0</td>\n",
       "    </tr>\n",
       "    <tr>\n",
       "      <th>1</th>\n",
       "      <td>24</td>\n",
       "      <td>NaN</td>\n",
       "      <td>NaN</td>\n",
       "      <td>I love fruits</td>\n",
       "      <td>0</td>\n",
       "    </tr>\n",
       "    <tr>\n",
       "      <th>2</th>\n",
       "      <td>25</td>\n",
       "      <td>NaN</td>\n",
       "      <td>NaN</td>\n",
       "      <td>Summer is lovely</td>\n",
       "      <td>0</td>\n",
       "    </tr>\n",
       "    <tr>\n",
       "      <th>3</th>\n",
       "      <td>26</td>\n",
       "      <td>NaN</td>\n",
       "      <td>NaN</td>\n",
       "      <td>My car is so fast</td>\n",
       "      <td>0</td>\n",
       "    </tr>\n",
       "    <tr>\n",
       "      <th>4</th>\n",
       "      <td>28</td>\n",
       "      <td>NaN</td>\n",
       "      <td>NaN</td>\n",
       "      <td>What a goooooooaaaaaal!!!!!!</td>\n",
       "      <td>0</td>\n",
       "    </tr>\n",
       "    <tr>\n",
       "      <th>5</th>\n",
       "      <td>1</td>\n",
       "      <td>NaN</td>\n",
       "      <td>NaN</td>\n",
       "      <td>Our Deeds are the Reason of this #earthquake M...</td>\n",
       "      <td>1</td>\n",
       "    </tr>\n",
       "    <tr>\n",
       "      <th>6</th>\n",
       "      <td>4</td>\n",
       "      <td>NaN</td>\n",
       "      <td>NaN</td>\n",
       "      <td>Forest fire near La Ronge Sask. Canada</td>\n",
       "      <td>1</td>\n",
       "    </tr>\n",
       "    <tr>\n",
       "      <th>7</th>\n",
       "      <td>5</td>\n",
       "      <td>NaN</td>\n",
       "      <td>NaN</td>\n",
       "      <td>All residents asked to 'shelter in place' are ...</td>\n",
       "      <td>1</td>\n",
       "    </tr>\n",
       "    <tr>\n",
       "      <th>8</th>\n",
       "      <td>6</td>\n",
       "      <td>NaN</td>\n",
       "      <td>NaN</td>\n",
       "      <td>13,000 people receive #wildfires evacuation or...</td>\n",
       "      <td>1</td>\n",
       "    </tr>\n",
       "    <tr>\n",
       "      <th>9</th>\n",
       "      <td>7</td>\n",
       "      <td>NaN</td>\n",
       "      <td>NaN</td>\n",
       "      <td>Just got sent this photo from Ruby #Alaska as ...</td>\n",
       "      <td>1</td>\n",
       "    </tr>\n",
       "  </tbody>\n",
       "</table>\n",
       "</div>"
      ],
      "text/plain": [
       "   id keyword location                                               text  \\\n",
       "0  23     NaN      NaN                                     What's up man?   \n",
       "1  24     NaN      NaN                                      I love fruits   \n",
       "2  25     NaN      NaN                                   Summer is lovely   \n",
       "3  26     NaN      NaN                                  My car is so fast   \n",
       "4  28     NaN      NaN                       What a goooooooaaaaaal!!!!!!   \n",
       "5   1     NaN      NaN  Our Deeds are the Reason of this #earthquake M...   \n",
       "6   4     NaN      NaN             Forest fire near La Ronge Sask. Canada   \n",
       "7   5     NaN      NaN  All residents asked to 'shelter in place' are ...   \n",
       "8   6     NaN      NaN  13,000 people receive #wildfires evacuation or...   \n",
       "9   7     NaN      NaN  Just got sent this photo from Ruby #Alaska as ...   \n",
       "\n",
       "   target  \n",
       "0       0  \n",
       "1       0  \n",
       "2       0  \n",
       "3       0  \n",
       "4       0  \n",
       "5       1  \n",
       "6       1  \n",
       "7       1  \n",
       "8       1  \n",
       "9       1  "
      ]
     },
     "execution_count": 4,
     "metadata": {},
     "output_type": "execute_result"
    }
   ],
   "source": [
    "# First of 5 disaster tweets and 5 non-disaster tweets\n",
    "# 0 means non-disaster\n",
    "# 1 means disaster\n",
    "sample_df_0 = df[df.target==0].head(5)\n",
    "sample_df_1 = df[df.target==1].head(5)\n",
    "sample_df = sample_df_0.append(sample_df_1)\n",
    "\n",
    "sample_df.reset_index(drop=True)"
   ]
  },
  {
   "cell_type": "code",
   "execution_count": 5,
   "metadata": {},
   "outputs": [
    {
     "data": {
      "text/html": [
       "<div>\n",
       "<style scoped>\n",
       "    .dataframe tbody tr th:only-of-type {\n",
       "        vertical-align: middle;\n",
       "    }\n",
       "\n",
       "    .dataframe tbody tr th {\n",
       "        vertical-align: top;\n",
       "    }\n",
       "\n",
       "    .dataframe thead th {\n",
       "        text-align: right;\n",
       "    }\n",
       "</style>\n",
       "<table border=\"1\" class=\"dataframe\">\n",
       "  <thead>\n",
       "    <tr style=\"text-align: right;\">\n",
       "      <th></th>\n",
       "      <th>Count</th>\n",
       "    </tr>\n",
       "    <tr>\n",
       "      <th>target</th>\n",
       "      <th></th>\n",
       "    </tr>\n",
       "  </thead>\n",
       "  <tbody>\n",
       "    <tr>\n",
       "      <th>0</th>\n",
       "      <td>4342</td>\n",
       "    </tr>\n",
       "    <tr>\n",
       "      <th>1</th>\n",
       "      <td>3271</td>\n",
       "    </tr>\n",
       "  </tbody>\n",
       "</table>\n",
       "</div>"
      ],
      "text/plain": [
       "        Count\n",
       "target       \n",
       "0        4342\n",
       "1        3271"
      ]
     },
     "execution_count": 5,
     "metadata": {},
     "output_type": "execute_result"
    }
   ],
   "source": [
    "df[[\"id\",\"target\"]].groupby(\"target\").count().rename(columns={\"id\":\"Count\"})"
   ]
  },
  {
   "cell_type": "code",
   "execution_count": 6,
   "metadata": {},
   "outputs": [
    {
     "data": {
      "text/html": [
       "<div>\n",
       "<style scoped>\n",
       "    .dataframe tbody tr th:only-of-type {\n",
       "        vertical-align: middle;\n",
       "    }\n",
       "\n",
       "    .dataframe tbody tr th {\n",
       "        vertical-align: top;\n",
       "    }\n",
       "\n",
       "    .dataframe thead tr th {\n",
       "        text-align: left;\n",
       "    }\n",
       "\n",
       "    .dataframe thead tr:last-of-type th {\n",
       "        text-align: right;\n",
       "    }\n",
       "</style>\n",
       "<table border=\"1\" class=\"dataframe\">\n",
       "  <thead>\n",
       "    <tr>\n",
       "      <th></th>\n",
       "      <th colspan=\"8\" halign=\"left\">text_length</th>\n",
       "    </tr>\n",
       "    <tr>\n",
       "      <th></th>\n",
       "      <th>count</th>\n",
       "      <th>mean</th>\n",
       "      <th>std</th>\n",
       "      <th>min</th>\n",
       "      <th>25%</th>\n",
       "      <th>50%</th>\n",
       "      <th>75%</th>\n",
       "      <th>max</th>\n",
       "    </tr>\n",
       "    <tr>\n",
       "      <th>target</th>\n",
       "      <th></th>\n",
       "      <th></th>\n",
       "      <th></th>\n",
       "      <th></th>\n",
       "      <th></th>\n",
       "      <th></th>\n",
       "      <th></th>\n",
       "      <th></th>\n",
       "    </tr>\n",
       "  </thead>\n",
       "  <tbody>\n",
       "    <tr>\n",
       "      <th>0</th>\n",
       "      <td>4342.0</td>\n",
       "      <td>95.832105</td>\n",
       "      <td>35.969652</td>\n",
       "      <td>7.0</td>\n",
       "      <td>68.0</td>\n",
       "      <td>101.0</td>\n",
       "      <td>130.0</td>\n",
       "      <td>157.0</td>\n",
       "    </tr>\n",
       "    <tr>\n",
       "      <th>1</th>\n",
       "      <td>3271.0</td>\n",
       "      <td>108.236319</td>\n",
       "      <td>29.369513</td>\n",
       "      <td>14.0</td>\n",
       "      <td>88.0</td>\n",
       "      <td>115.0</td>\n",
       "      <td>136.0</td>\n",
       "      <td>151.0</td>\n",
       "    </tr>\n",
       "  </tbody>\n",
       "</table>\n",
       "</div>"
      ],
      "text/plain": [
       "       text_length                                                        \n",
       "             count        mean        std   min   25%    50%    75%    max\n",
       "target                                                                    \n",
       "0           4342.0   95.832105  35.969652   7.0  68.0  101.0  130.0  157.0\n",
       "1           3271.0  108.236319  29.369513  14.0  88.0  115.0  136.0  151.0"
      ]
     },
     "execution_count": 6,
     "metadata": {},
     "output_type": "execute_result"
    }
   ],
   "source": [
    "# Calculating the length of text\n",
    "df[\"text_length\"]=df[\"text\"].str.len()\n",
    "df[[\"target\",\"text_length\"]].groupby(\"target\").describe()"
   ]
  },
  {
   "cell_type": "code",
   "execution_count": 7,
   "metadata": {},
   "outputs": [
    {
     "data": {
      "text/plain": [
       "Ttest_indResult(statistic=-16.551040413805307, pvalue=1.8059359097919938e-60)"
      ]
     },
     "execution_count": 7,
     "metadata": {},
     "output_type": "execute_result"
    }
   ],
   "source": [
    "from scipy.stats import ttest_ind\n",
    "target_0 = df[df.target==0][\"text_length\"]\n",
    "target_1 = df[df.target==1][\"text_length\"]\n",
    "ttest_ind(target_0, target_1, equal_var=False)\n",
    "\n"
   ]
  },
  {
   "cell_type": "code",
   "execution_count": 8,
   "metadata": {},
   "outputs": [],
   "source": [
    "from sklearn.feature_extraction.text import TfidfVectorizer\n",
    "from sklearn.pipeline import Pipeline\n",
    "from sklearn.feature_extraction.text import CountVectorizer"
   ]
  },
  {
   "cell_type": "code",
   "execution_count": 9,
   "metadata": {},
   "outputs": [
    {
     "data": {
      "text/plain": [
       "752"
      ]
     },
     "execution_count": 9,
     "metadata": {},
     "output_type": "execute_result"
    }
   ],
   "source": [
    "wordCounts = {}\n",
    "\n",
    "for x in df.text:\n",
    "    for y in x.split(\" \"):\n",
    "        \n",
    "        word = y.lower().replace(\"?\",\"\").replace(\".\",\"\")\n",
    "        \n",
    "        setVal = wordCounts.get(y.lower(),0) + 1\n",
    "        wordCounts[y.lower()] = setVal\n",
    "\n",
    "popularWords = list(filter(lambda x: (x[1] > 20), wordCounts.items()))\n",
    "popularWords = [x[0] for x in popularWords]\n",
    "len(popularWords)"
   ]
  },
  {
   "cell_type": "code",
   "execution_count": 10,
   "metadata": {},
   "outputs": [],
   "source": [
    "tfVect = TfidfVectorizer(vocabulary = popularWords)\n",
    "\n",
    "\n",
    "test2 = tfVect.fit_transform(df[\"text\"])\n",
    "ndf = pd.DataFrame(test2.toarray(), columns = tfVect.get_feature_names())\n",
    "\n",
    "ndf[\"text_length\"] = df.text_length\n",
    "\n",
    "\n",
    "\n",
    "test2 = tfVect.fit_transform(df_test[\"text\"])\n",
    "ndf_test = pd.DataFrame(test2.toarray(), columns = tfVect.get_feature_names())\n",
    "\n",
    "ndf_test[\"text_length\"] = df.text_length\n",
    "\n",
    "\n",
    "\n"
   ]
  },
  {
   "cell_type": "code",
   "execution_count": 31,
   "metadata": {},
   "outputs": [
    {
     "name": "stdout",
     "output_type": "stream",
     "text": [
      "         id  target\n",
      "0         0       1\n",
      "1         2       0\n",
      "2         3       1\n",
      "3         9       0\n",
      "4        11       1\n",
      "...     ...     ...\n",
      "3258  10861       1\n",
      "3259  10865       1\n",
      "3260  10868       0\n",
      "3261  10874       1\n",
      "3262  10875       0\n",
      "\n",
      "[3263 rows x 2 columns]\n"
     ]
    }
   ],
   "source": [
    "from sklearn.linear_model import LinearRegression\n",
    "from sklearn.utils import shuffle\n",
    "from sklearn.model_selection import train_test_split\n",
    "\n",
    "x_train, x_test, y_train, y_test = train_test_split(ndf, df.target, test_size=0.5, random_state=42)\n",
    "\n",
    "lRegModel = LinearRegression()\n",
    "\n",
    "lRegModel.fit(x_train, y_train)\n",
    "\n",
    "predictionResult = lRegModel.predict(x_test)\n",
    "\n",
    "testPred = lRegModel.predict(ndf_test)\n",
    "\n",
    "#output_matrix(predictionResult, y_test)\n",
    "\n",
    "\n",
    "finaldf = pd.DataFrame({\"id\":df_test.id, \"target\":testPred})\n",
    "\n",
    "finaldf.target = finaldf.target.apply((lambda x : 0 if 0 >= round(x) else 1))\n",
    "\n",
    "finaldf.to_csv(\"submit_res.csv\", index=False)\n",
    "\n",
    "print(finaldf)\n",
    "\n",
    "#print(testPred)"
   ]
  },
  {
   "cell_type": "code",
   "execution_count": 12,
   "metadata": {},
   "outputs": [
    {
     "name": "stdout",
     "output_type": "stream",
     "text": [
      "Correct: 2910\n",
      "Incorrect: 897\n",
      "Accuracy: 0.764381402679275\n",
      "             count\n",
      "actual pred       \n",
      "0      0      1923\n",
      "       1       262\n",
      "1      0       635\n",
      "       1       987\n"
     ]
    }
   ],
   "source": [
    "from sklearn.ensemble import RandomForestClassifier\n",
    "\n",
    "x_train, x_test, y_train, y_test = train_test_split(ndf, df.target, test_size=0.5, random_state=42)\n",
    "\n",
    "rfcModel = RandomForestClassifier()\n",
    "\n",
    "rfcModel.fit(x_train, y_train)\n",
    "\n",
    "predictionResult = rfcModel.predict(x_test)\n",
    "\n",
    "predictionResult\n",
    "\n",
    "output_matrix(predictionResult, y_test)"
   ]
  },
  {
   "cell_type": "code",
   "execution_count": 13,
   "metadata": {},
   "outputs": [
    {
     "name": "stdout",
     "output_type": "stream",
     "text": [
      "Correct: 2971\n",
      "Incorrect: 836\n",
      "Accuracy: 0.7804045179931705\n",
      "             count\n",
      "actual pred       \n",
      "0      0      1924\n",
      "       1       261\n",
      "1      0       575\n",
      "       1      1047\n"
     ]
    }
   ],
   "source": [
    "from sklearn.naive_bayes import MultinomialNB\n",
    "\n",
    "x_train, x_test, y_train, y_test = train_test_split(ndf, df.target, test_size=0.5, random_state=42)\n",
    "\n",
    "mnbModel = MultinomialNB()\n",
    "\n",
    "mnbModel.fit(x_train, y_train)\n",
    "\n",
    "predictionResult = mnbModel.predict(x_test)\n",
    "\n",
    "predictionResult\n",
    "\n",
    "output_matrix(predictionResult, y_test)"
   ]
  },
  {
   "cell_type": "code",
   "execution_count": null,
   "metadata": {},
   "outputs": [],
   "source": []
  }
 ],
 "metadata": {
  "kernelspec": {
   "display_name": "Python 3",
   "language": "python",
   "name": "python3"
  },
  "language_info": {
   "codemirror_mode": {
    "name": "ipython",
    "version": 3
   },
   "file_extension": ".py",
   "mimetype": "text/x-python",
   "name": "python",
   "nbconvert_exporter": "python",
   "pygments_lexer": "ipython3",
   "version": "3.8.6"
  }
 },
 "nbformat": 4,
 "nbformat_minor": 4
}
